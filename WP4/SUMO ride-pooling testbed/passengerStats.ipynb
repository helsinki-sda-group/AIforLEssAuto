{
 "cells": [
  {
   "cell_type": "code",
   "execution_count": 19,
   "metadata": {},
   "outputs": [],
   "source": [
    "from bs4 import BeautifulSoup  \n",
    "import pandas as pd"
   ]
  },
  {
   "cell_type": "code",
   "execution_count": 37,
   "metadata": {},
   "outputs": [],
   "source": [
    "file = open(\"passengers.xml\",'r')\n",
    "contents = file.read()\n"
   ]
  },
  {
   "cell_type": "code",
   "execution_count": 38,
   "metadata": {},
   "outputs": [],
   "source": [
    "soup = BeautifulSoup(contents,'xml')\n",
    "file.close()"
   ]
  },
  {
   "cell_type": "code",
   "execution_count": 22,
   "metadata": {},
   "outputs": [
    {
     "name": "stdout",
     "output_type": "stream",
     "text": [
      "Passengers found:  900\n"
     ]
    }
   ],
   "source": [
    "persons = soup.find_all(\"person\")\n",
    "print(\"Passengers found: \", len(persons))"
   ]
  },
  {
   "cell_type": "code",
   "execution_count": 23,
   "metadata": {},
   "outputs": [
    {
     "data": {
      "text/plain": [
       "<person desiredDepart=\"0.00\" dest=\"-1212\" detourDistance=\"-4.94\" detourDistancePerc=\"-0.16\" detourTime=\"-17\" detourTimePerc=\"-5.82\" id=\"p0\" mode=\"taxi\" orig=\"-4479\" privateArrival=\"292.00\" privateDepart=\"0.00\" privateDepartDelay=\"0.00\" privateDuration=\"292.00\" privateRouteLength=\"3016.87\" sharedRide=\"False\" taxiArrival=\"313\" taxiDepart=\"38\" taxiDepartDelay=\"38\" taxiDuration=\"275.00\" taxiRouteLength=\"3011.93\" taxiVehicle=\"t26\" taxiWaitingTime=\"38.00\"/>"
      ]
     },
     "execution_count": 23,
     "metadata": {},
     "output_type": "execute_result"
    }
   ],
   "source": [
    "persons[0]"
   ]
  },
  {
   "cell_type": "code",
   "execution_count": 24,
   "metadata": {},
   "outputs": [
    {
     "name": "stdout",
     "output_type": "stream",
     "text": [
      "-1212\n"
     ]
    }
   ],
   "source": [
    "print(persons[0][\"dest\"])"
   ]
  },
  {
   "cell_type": "code",
   "execution_count": 25,
   "metadata": {},
   "outputs": [],
   "source": [
    "data = []\n",
    "for person in persons:\n",
    "    id = person[\"id\"]\n",
    "    privateDuration = float(person[\"privateDuration\"])\n",
    "    taxiDuration = float(person[\"taxiDuration\"])\n",
    "    detourTime = float(person[\"detourTime\"])\n",
    "    detourTimePerc = float(person[\"detourTimePerc\"])\n",
    "    privateRouteLength = float(person[\"privateRouteLength\"])\n",
    "    taxiRouteLength = float(person[\"taxiRouteLength\"])\n",
    "    detourDistance = float(person[\"detourDistance\"])\n",
    "    detourDistancePerc = float(person[\"detourDistancePerc\"])\n",
    "    sharedRide = person[\"sharedRide\"]\n",
    "    taxiDepartDelay = int(float(person[\"taxiDepartDelay\"]))\n",
    "    mode = person[\"mode\"]\n",
    "    rows = [id, privateDuration, taxiDuration, detourTime, detourTimePerc, privateRouteLength, taxiRouteLength, detourDistance, detourDistancePerc,  sharedRide, taxiDepartDelay, mode]\n",
    "    data.append(rows)\n",
    "\n",
    "df = pd.DataFrame(data, columns=['id', 'privateDuration', 'taxiDuration', 'detourTime', 'detourTimePerc', 'privateDistance', 'taxiDistance', 'detourDistance', 'detourDistancePerc',  'sharedRide', 'taxiDepartDelay', 'mode'])"
   ]
  },
  {
   "cell_type": "code",
   "execution_count": 26,
   "metadata": {},
   "outputs": [],
   "source": [
    "df[\"taxiTripTime\"] = df[\"taxiDuration\"] + df[\"taxiDepartDelay\"]\n",
    "df[\"taxiPrivateCoeff\"] = round((df[\"taxiTripTime\"] - df[\"privateDuration\"]) / df[\"privateDuration\"] * 100, 2)"
   ]
  },
  {
   "cell_type": "code",
   "execution_count": 27,
   "metadata": {},
   "outputs": [
    {
     "data": {
      "text/html": [
       "<div>\n",
       "<style scoped>\n",
       "    .dataframe tbody tr th:only-of-type {\n",
       "        vertical-align: middle;\n",
       "    }\n",
       "\n",
       "    .dataframe tbody tr th {\n",
       "        vertical-align: top;\n",
       "    }\n",
       "\n",
       "    .dataframe thead th {\n",
       "        text-align: right;\n",
       "    }\n",
       "</style>\n",
       "<table border=\"1\" class=\"dataframe\">\n",
       "  <thead>\n",
       "    <tr style=\"text-align: right;\">\n",
       "      <th></th>\n",
       "      <th>id</th>\n",
       "      <th>privateDuration</th>\n",
       "      <th>taxiDuration</th>\n",
       "      <th>detourTime</th>\n",
       "      <th>detourTimePerc</th>\n",
       "      <th>privateDistance</th>\n",
       "      <th>taxiDistance</th>\n",
       "      <th>detourDistance</th>\n",
       "      <th>detourDistancePerc</th>\n",
       "      <th>sharedRide</th>\n",
       "      <th>taxiDepartDelay</th>\n",
       "      <th>mode</th>\n",
       "      <th>taxiTripTime</th>\n",
       "      <th>taxiPrivateCoeff</th>\n",
       "    </tr>\n",
       "  </thead>\n",
       "  <tbody>\n",
       "    <tr>\n",
       "      <th>0</th>\n",
       "      <td>p0</td>\n",
       "      <td>292.0</td>\n",
       "      <td>275.0</td>\n",
       "      <td>-17.0</td>\n",
       "      <td>-5.82</td>\n",
       "      <td>3016.87</td>\n",
       "      <td>3011.93</td>\n",
       "      <td>-4.94</td>\n",
       "      <td>-0.16</td>\n",
       "      <td>False</td>\n",
       "      <td>38</td>\n",
       "      <td>taxi</td>\n",
       "      <td>313.0</td>\n",
       "      <td>7.19</td>\n",
       "    </tr>\n",
       "    <tr>\n",
       "      <th>1</th>\n",
       "      <td>p1</td>\n",
       "      <td>193.0</td>\n",
       "      <td>221.0</td>\n",
       "      <td>28.0</td>\n",
       "      <td>14.51</td>\n",
       "      <td>2254.21</td>\n",
       "      <td>2249.27</td>\n",
       "      <td>-4.94</td>\n",
       "      <td>-0.22</td>\n",
       "      <td>False</td>\n",
       "      <td>45</td>\n",
       "      <td>taxi</td>\n",
       "      <td>266.0</td>\n",
       "      <td>37.82</td>\n",
       "    </tr>\n",
       "    <tr>\n",
       "      <th>2</th>\n",
       "      <td>p2</td>\n",
       "      <td>281.0</td>\n",
       "      <td>264.0</td>\n",
       "      <td>-17.0</td>\n",
       "      <td>-6.05</td>\n",
       "      <td>2977.47</td>\n",
       "      <td>2972.56</td>\n",
       "      <td>-4.91</td>\n",
       "      <td>-0.16</td>\n",
       "      <td>False</td>\n",
       "      <td>36</td>\n",
       "      <td>taxi</td>\n",
       "      <td>300.0</td>\n",
       "      <td>6.76</td>\n",
       "    </tr>\n",
       "    <tr>\n",
       "      <th>3</th>\n",
       "      <td>p3</td>\n",
       "      <td>169.0</td>\n",
       "      <td>219.0</td>\n",
       "      <td>50.0</td>\n",
       "      <td>29.59</td>\n",
       "      <td>2084.20</td>\n",
       "      <td>2079.20</td>\n",
       "      <td>-5.00</td>\n",
       "      <td>-0.24</td>\n",
       "      <td>False</td>\n",
       "      <td>18</td>\n",
       "      <td>taxi</td>\n",
       "      <td>237.0</td>\n",
       "      <td>40.24</td>\n",
       "    </tr>\n",
       "    <tr>\n",
       "      <th>4</th>\n",
       "      <td>p4</td>\n",
       "      <td>166.0</td>\n",
       "      <td>217.0</td>\n",
       "      <td>51.0</td>\n",
       "      <td>30.72</td>\n",
       "      <td>1994.16</td>\n",
       "      <td>1989.20</td>\n",
       "      <td>-4.96</td>\n",
       "      <td>-0.25</td>\n",
       "      <td>False</td>\n",
       "      <td>45</td>\n",
       "      <td>taxi</td>\n",
       "      <td>262.0</td>\n",
       "      <td>57.83</td>\n",
       "    </tr>\n",
       "    <tr>\n",
       "      <th>...</th>\n",
       "      <td>...</td>\n",
       "      <td>...</td>\n",
       "      <td>...</td>\n",
       "      <td>...</td>\n",
       "      <td>...</td>\n",
       "      <td>...</td>\n",
       "      <td>...</td>\n",
       "      <td>...</td>\n",
       "      <td>...</td>\n",
       "      <td>...</td>\n",
       "      <td>...</td>\n",
       "      <td>...</td>\n",
       "      <td>...</td>\n",
       "      <td>...</td>\n",
       "    </tr>\n",
       "    <tr>\n",
       "      <th>895</th>\n",
       "      <td>894</td>\n",
       "      <td>277.0</td>\n",
       "      <td>310.0</td>\n",
       "      <td>33.0</td>\n",
       "      <td>11.91</td>\n",
       "      <td>3477.55</td>\n",
       "      <td>3483.11</td>\n",
       "      <td>5.56</td>\n",
       "      <td>0.16</td>\n",
       "      <td>False</td>\n",
       "      <td>0</td>\n",
       "      <td>private</td>\n",
       "      <td>310.0</td>\n",
       "      <td>11.91</td>\n",
       "    </tr>\n",
       "    <tr>\n",
       "      <th>896</th>\n",
       "      <td>895</td>\n",
       "      <td>217.0</td>\n",
       "      <td>240.0</td>\n",
       "      <td>23.0</td>\n",
       "      <td>10.60</td>\n",
       "      <td>2638.79</td>\n",
       "      <td>2638.79</td>\n",
       "      <td>0.00</td>\n",
       "      <td>0.00</td>\n",
       "      <td>False</td>\n",
       "      <td>0</td>\n",
       "      <td>private</td>\n",
       "      <td>240.0</td>\n",
       "      <td>10.60</td>\n",
       "    </tr>\n",
       "    <tr>\n",
       "      <th>897</th>\n",
       "      <td>896</td>\n",
       "      <td>238.0</td>\n",
       "      <td>208.0</td>\n",
       "      <td>-30.0</td>\n",
       "      <td>-12.61</td>\n",
       "      <td>2640.74</td>\n",
       "      <td>2640.74</td>\n",
       "      <td>0.00</td>\n",
       "      <td>0.00</td>\n",
       "      <td>False</td>\n",
       "      <td>1</td>\n",
       "      <td>private</td>\n",
       "      <td>209.0</td>\n",
       "      <td>-12.18</td>\n",
       "    </tr>\n",
       "    <tr>\n",
       "      <th>898</th>\n",
       "      <td>897</td>\n",
       "      <td>290.0</td>\n",
       "      <td>296.0</td>\n",
       "      <td>6.0</td>\n",
       "      <td>2.07</td>\n",
       "      <td>3141.36</td>\n",
       "      <td>3141.36</td>\n",
       "      <td>0.00</td>\n",
       "      <td>0.00</td>\n",
       "      <td>False</td>\n",
       "      <td>0</td>\n",
       "      <td>private</td>\n",
       "      <td>296.0</td>\n",
       "      <td>2.07</td>\n",
       "    </tr>\n",
       "    <tr>\n",
       "      <th>899</th>\n",
       "      <td>898</td>\n",
       "      <td>249.0</td>\n",
       "      <td>146.0</td>\n",
       "      <td>-103.0</td>\n",
       "      <td>-41.37</td>\n",
       "      <td>1809.87</td>\n",
       "      <td>1806.67</td>\n",
       "      <td>-3.20</td>\n",
       "      <td>-0.18</td>\n",
       "      <td>False</td>\n",
       "      <td>11</td>\n",
       "      <td>private</td>\n",
       "      <td>157.0</td>\n",
       "      <td>-36.95</td>\n",
       "    </tr>\n",
       "  </tbody>\n",
       "</table>\n",
       "<p>900 rows × 14 columns</p>\n",
       "</div>"
      ],
      "text/plain": [
       "      id  privateDuration  taxiDuration  detourTime  detourTimePerc  \\\n",
       "0     p0            292.0         275.0       -17.0           -5.82   \n",
       "1     p1            193.0         221.0        28.0           14.51   \n",
       "2     p2            281.0         264.0       -17.0           -6.05   \n",
       "3     p3            169.0         219.0        50.0           29.59   \n",
       "4     p4            166.0         217.0        51.0           30.72   \n",
       "..   ...              ...           ...         ...             ...   \n",
       "895  894            277.0         310.0        33.0           11.91   \n",
       "896  895            217.0         240.0        23.0           10.60   \n",
       "897  896            238.0         208.0       -30.0          -12.61   \n",
       "898  897            290.0         296.0         6.0            2.07   \n",
       "899  898            249.0         146.0      -103.0          -41.37   \n",
       "\n",
       "     privateDistance  taxiDistance  detourDistance  detourDistancePerc  \\\n",
       "0            3016.87       3011.93           -4.94               -0.16   \n",
       "1            2254.21       2249.27           -4.94               -0.22   \n",
       "2            2977.47       2972.56           -4.91               -0.16   \n",
       "3            2084.20       2079.20           -5.00               -0.24   \n",
       "4            1994.16       1989.20           -4.96               -0.25   \n",
       "..               ...           ...             ...                 ...   \n",
       "895          3477.55       3483.11            5.56                0.16   \n",
       "896          2638.79       2638.79            0.00                0.00   \n",
       "897          2640.74       2640.74            0.00                0.00   \n",
       "898          3141.36       3141.36            0.00                0.00   \n",
       "899          1809.87       1806.67           -3.20               -0.18   \n",
       "\n",
       "    sharedRide  taxiDepartDelay     mode  taxiTripTime  taxiPrivateCoeff  \n",
       "0        False               38     taxi         313.0              7.19  \n",
       "1        False               45     taxi         266.0             37.82  \n",
       "2        False               36     taxi         300.0              6.76  \n",
       "3        False               18     taxi         237.0             40.24  \n",
       "4        False               45     taxi         262.0             57.83  \n",
       "..         ...              ...      ...           ...               ...  \n",
       "895      False                0  private         310.0             11.91  \n",
       "896      False                0  private         240.0             10.60  \n",
       "897      False                1  private         209.0            -12.18  \n",
       "898      False                0  private         296.0              2.07  \n",
       "899      False               11  private         157.0            -36.95  \n",
       "\n",
       "[900 rows x 14 columns]"
      ]
     },
     "metadata": {},
     "output_type": "display_data"
    }
   ],
   "source": [
    "display(df)"
   ]
  },
  {
   "cell_type": "code",
   "execution_count": 28,
   "metadata": {},
   "outputs": [],
   "source": [
    "df_shared = df[(df[\"sharedRide\"] == \"True\") & (df[\"mode\"]==\"taxi\")]\n",
    "df_nonshared = df[(df[\"sharedRide\"] == \"False\") & (df[\"mode\"]==\"taxi\")]\n",
    "df_private = df[df[\"mode\"] == \"private\"]"
   ]
  },
  {
   "cell_type": "code",
   "execution_count": 29,
   "metadata": {},
   "outputs": [
    {
     "data": {
      "text/html": [
       "<div>\n",
       "<style scoped>\n",
       "    .dataframe tbody tr th:only-of-type {\n",
       "        vertical-align: middle;\n",
       "    }\n",
       "\n",
       "    .dataframe tbody tr th {\n",
       "        vertical-align: top;\n",
       "    }\n",
       "\n",
       "    .dataframe thead th {\n",
       "        text-align: right;\n",
       "    }\n",
       "</style>\n",
       "<table border=\"1\" class=\"dataframe\">\n",
       "  <thead>\n",
       "    <tr style=\"text-align: right;\">\n",
       "      <th></th>\n",
       "      <th>privateDuration</th>\n",
       "      <th>taxiDuration</th>\n",
       "      <th>detourTime</th>\n",
       "      <th>detourTimePerc</th>\n",
       "      <th>privateDistance</th>\n",
       "      <th>taxiDistance</th>\n",
       "      <th>detourDistance</th>\n",
       "      <th>detourDistancePerc</th>\n",
       "      <th>taxiDepartDelay</th>\n",
       "      <th>taxiTripTime</th>\n",
       "      <th>taxiPrivateCoeff</th>\n",
       "    </tr>\n",
       "  </thead>\n",
       "  <tbody>\n",
       "    <tr>\n",
       "      <th>0.25</th>\n",
       "      <td>225.0</td>\n",
       "      <td>255.5</td>\n",
       "      <td>33.25</td>\n",
       "      <td>14.7825</td>\n",
       "      <td>2410.3750</td>\n",
       "      <td>2629.4925</td>\n",
       "      <td>110.4450</td>\n",
       "      <td>4.460</td>\n",
       "      <td>169.5</td>\n",
       "      <td>423.0</td>\n",
       "      <td>98.6225</td>\n",
       "    </tr>\n",
       "    <tr>\n",
       "      <th>0.50</th>\n",
       "      <td>243.0</td>\n",
       "      <td>277.5</td>\n",
       "      <td>46.00</td>\n",
       "      <td>19.8150</td>\n",
       "      <td>2615.5050</td>\n",
       "      <td>2901.2150</td>\n",
       "      <td>314.7350</td>\n",
       "      <td>12.020</td>\n",
       "      <td>195.5</td>\n",
       "      <td>481.0</td>\n",
       "      <td>108.1000</td>\n",
       "    </tr>\n",
       "    <tr>\n",
       "      <th>0.75</th>\n",
       "      <td>272.5</td>\n",
       "      <td>323.0</td>\n",
       "      <td>71.00</td>\n",
       "      <td>26.8700</td>\n",
       "      <td>2897.8225</td>\n",
       "      <td>3251.8575</td>\n",
       "      <td>410.1175</td>\n",
       "      <td>14.035</td>\n",
       "      <td>383.0</td>\n",
       "      <td>689.5</td>\n",
       "      <td>180.6075</td>\n",
       "    </tr>\n",
       "  </tbody>\n",
       "</table>\n",
       "</div>"
      ],
      "text/plain": [
       "      privateDuration  taxiDuration  detourTime  detourTimePerc  \\\n",
       "0.25            225.0         255.5       33.25         14.7825   \n",
       "0.50            243.0         277.5       46.00         19.8150   \n",
       "0.75            272.5         323.0       71.00         26.8700   \n",
       "\n",
       "      privateDistance  taxiDistance  detourDistance  detourDistancePerc  \\\n",
       "0.25        2410.3750     2629.4925        110.4450               4.460   \n",
       "0.50        2615.5050     2901.2150        314.7350              12.020   \n",
       "0.75        2897.8225     3251.8575        410.1175              14.035   \n",
       "\n",
       "      taxiDepartDelay  taxiTripTime  taxiPrivateCoeff  \n",
       "0.25            169.5         423.0           98.6225  \n",
       "0.50            195.5         481.0          108.1000  \n",
       "0.75            383.0         689.5          180.6075  "
      ]
     },
     "execution_count": 29,
     "metadata": {},
     "output_type": "execute_result"
    }
   ],
   "source": [
    "df_shared.quantile(q=[0.25, 0.5, 0.75], axis=0, numeric_only=True)"
   ]
  },
  {
   "cell_type": "code",
   "execution_count": 30,
   "metadata": {},
   "outputs": [
    {
     "data": {
      "text/html": [
       "<div>\n",
       "<style scoped>\n",
       "    .dataframe tbody tr th:only-of-type {\n",
       "        vertical-align: middle;\n",
       "    }\n",
       "\n",
       "    .dataframe tbody tr th {\n",
       "        vertical-align: top;\n",
       "    }\n",
       "\n",
       "    .dataframe thead th {\n",
       "        text-align: right;\n",
       "    }\n",
       "</style>\n",
       "<table border=\"1\" class=\"dataframe\">\n",
       "  <thead>\n",
       "    <tr style=\"text-align: right;\">\n",
       "      <th></th>\n",
       "      <th>privateDuration</th>\n",
       "      <th>taxiDuration</th>\n",
       "      <th>detourTime</th>\n",
       "      <th>detourTimePerc</th>\n",
       "      <th>privateDistance</th>\n",
       "      <th>taxiDistance</th>\n",
       "      <th>detourDistance</th>\n",
       "      <th>detourDistancePerc</th>\n",
       "      <th>taxiDepartDelay</th>\n",
       "      <th>taxiTripTime</th>\n",
       "      <th>taxiPrivateCoeff</th>\n",
       "    </tr>\n",
       "  </thead>\n",
       "  <tbody>\n",
       "    <tr>\n",
       "      <th>0.25</th>\n",
       "      <td>207.5</td>\n",
       "      <td>215.0</td>\n",
       "      <td>-17.0</td>\n",
       "      <td>-6.215</td>\n",
       "      <td>2329.625</td>\n",
       "      <td>2329.480</td>\n",
       "      <td>-4.985</td>\n",
       "      <td>-0.230</td>\n",
       "      <td>47.0</td>\n",
       "      <td>301.0</td>\n",
       "      <td>22.29</td>\n",
       "    </tr>\n",
       "    <tr>\n",
       "      <th>0.50</th>\n",
       "      <td>243.0</td>\n",
       "      <td>251.0</td>\n",
       "      <td>5.0</td>\n",
       "      <td>2.270</td>\n",
       "      <td>2561.090</td>\n",
       "      <td>2556.100</td>\n",
       "      <td>-4.950</td>\n",
       "      <td>-0.200</td>\n",
       "      <td>88.0</td>\n",
       "      <td>340.0</td>\n",
       "      <td>41.47</td>\n",
       "    </tr>\n",
       "    <tr>\n",
       "      <th>0.75</th>\n",
       "      <td>279.0</td>\n",
       "      <td>283.0</td>\n",
       "      <td>26.5</td>\n",
       "      <td>11.310</td>\n",
       "      <td>2964.690</td>\n",
       "      <td>2961.715</td>\n",
       "      <td>-4.925</td>\n",
       "      <td>-0.165</td>\n",
       "      <td>168.0</td>\n",
       "      <td>428.5</td>\n",
       "      <td>71.08</td>\n",
       "    </tr>\n",
       "  </tbody>\n",
       "</table>\n",
       "</div>"
      ],
      "text/plain": [
       "      privateDuration  taxiDuration  detourTime  detourTimePerc  \\\n",
       "0.25            207.5         215.0       -17.0          -6.215   \n",
       "0.50            243.0         251.0         5.0           2.270   \n",
       "0.75            279.0         283.0        26.5          11.310   \n",
       "\n",
       "      privateDistance  taxiDistance  detourDistance  detourDistancePerc  \\\n",
       "0.25         2329.625      2329.480          -4.985              -0.230   \n",
       "0.50         2561.090      2556.100          -4.950              -0.200   \n",
       "0.75         2964.690      2961.715          -4.925              -0.165   \n",
       "\n",
       "      taxiDepartDelay  taxiTripTime  taxiPrivateCoeff  \n",
       "0.25             47.0         301.0             22.29  \n",
       "0.50             88.0         340.0             41.47  \n",
       "0.75            168.0         428.5             71.08  "
      ]
     },
     "execution_count": 30,
     "metadata": {},
     "output_type": "execute_result"
    }
   ],
   "source": [
    "df_nonshared.quantile(q=[0.25, 0.5, 0.75], axis=0, numeric_only=True)"
   ]
  },
  {
   "cell_type": "code",
   "execution_count": 31,
   "metadata": {},
   "outputs": [
    {
     "data": {
      "text/html": [
       "<div>\n",
       "<style scoped>\n",
       "    .dataframe tbody tr th:only-of-type {\n",
       "        vertical-align: middle;\n",
       "    }\n",
       "\n",
       "    .dataframe tbody tr th {\n",
       "        vertical-align: top;\n",
       "    }\n",
       "\n",
       "    .dataframe thead th {\n",
       "        text-align: right;\n",
       "    }\n",
       "</style>\n",
       "<table border=\"1\" class=\"dataframe\">\n",
       "  <thead>\n",
       "    <tr style=\"text-align: right;\">\n",
       "      <th></th>\n",
       "      <th>privateDuration</th>\n",
       "      <th>taxiDuration</th>\n",
       "      <th>detourTime</th>\n",
       "      <th>detourTimePerc</th>\n",
       "      <th>privateDistance</th>\n",
       "      <th>taxiDistance</th>\n",
       "      <th>detourDistance</th>\n",
       "      <th>detourDistancePerc</th>\n",
       "      <th>taxiDepartDelay</th>\n",
       "      <th>taxiTripTime</th>\n",
       "      <th>taxiPrivateCoeff</th>\n",
       "    </tr>\n",
       "  </thead>\n",
       "  <tbody>\n",
       "    <tr>\n",
       "      <th>0.25</th>\n",
       "      <td>209.5</td>\n",
       "      <td>212.0</td>\n",
       "      <td>-21.0</td>\n",
       "      <td>-8.465</td>\n",
       "      <td>2291.445</td>\n",
       "      <td>2296.100</td>\n",
       "      <td>0.0</td>\n",
       "      <td>0.0</td>\n",
       "      <td>0.0</td>\n",
       "      <td>213.0</td>\n",
       "      <td>-8.43</td>\n",
       "    </tr>\n",
       "    <tr>\n",
       "      <th>0.50</th>\n",
       "      <td>241.0</td>\n",
       "      <td>246.0</td>\n",
       "      <td>2.0</td>\n",
       "      <td>1.060</td>\n",
       "      <td>2591.280</td>\n",
       "      <td>2588.390</td>\n",
       "      <td>0.0</td>\n",
       "      <td>0.0</td>\n",
       "      <td>0.0</td>\n",
       "      <td>247.0</td>\n",
       "      <td>1.35</td>\n",
       "    </tr>\n",
       "    <tr>\n",
       "      <th>0.75</th>\n",
       "      <td>279.5</td>\n",
       "      <td>283.5</td>\n",
       "      <td>24.0</td>\n",
       "      <td>10.440</td>\n",
       "      <td>2904.545</td>\n",
       "      <td>2897.165</td>\n",
       "      <td>0.0</td>\n",
       "      <td>0.0</td>\n",
       "      <td>0.0</td>\n",
       "      <td>284.0</td>\n",
       "      <td>10.63</td>\n",
       "    </tr>\n",
       "  </tbody>\n",
       "</table>\n",
       "</div>"
      ],
      "text/plain": [
       "      privateDuration  taxiDuration  detourTime  detourTimePerc  \\\n",
       "0.25            209.5         212.0       -21.0          -8.465   \n",
       "0.50            241.0         246.0         2.0           1.060   \n",
       "0.75            279.5         283.5        24.0          10.440   \n",
       "\n",
       "      privateDistance  taxiDistance  detourDistance  detourDistancePerc  \\\n",
       "0.25         2291.445      2296.100             0.0                 0.0   \n",
       "0.50         2591.280      2588.390             0.0                 0.0   \n",
       "0.75         2904.545      2897.165             0.0                 0.0   \n",
       "\n",
       "      taxiDepartDelay  taxiTripTime  taxiPrivateCoeff  \n",
       "0.25              0.0         213.0             -8.43  \n",
       "0.50              0.0         247.0              1.35  \n",
       "0.75              0.0         284.0             10.63  "
      ]
     },
     "execution_count": 31,
     "metadata": {},
     "output_type": "execute_result"
    }
   ],
   "source": [
    "df_private.quantile(q=[0.25, 0.5, 0.75], axis=0, numeric_only=True)\n"
   ]
  },
  {
   "cell_type": "code",
   "execution_count": 32,
   "metadata": {},
   "outputs": [
    {
     "data": {
      "text/plain": [
       "False    890\n",
       "True      10\n",
       "Name: sharedRide, dtype: int64"
      ]
     },
     "execution_count": 32,
     "metadata": {},
     "output_type": "execute_result"
    }
   ],
   "source": [
    "df.sharedRide.value_counts()"
   ]
  },
  {
   "cell_type": "code",
   "execution_count": 33,
   "metadata": {},
   "outputs": [
    {
     "data": {
      "text/plain": [
       "array([[<AxesSubplot:title={'center':'privateDuration'}>,\n",
       "        <AxesSubplot:title={'center':'taxiTripTime'}>]], dtype=object)"
      ]
     },
     "execution_count": 33,
     "metadata": {},
     "output_type": "execute_result"
    },
    {
     "data": {
      "image/png": "[encoded data removed]",
      "text/plain": [
       "<Figure size 432x288 with 2 Axes>"
      ]
     },
     "metadata": {
      "needs_background": "light"
     },
     "output_type": "display_data"
    }
   ],
   "source": [
    "df.hist(column=[\"privateDuration\", \"taxiTripTime\"])"
   ]
  },
  {
   "cell_type": "code",
   "execution_count": 34,
   "metadata": {},
   "outputs": [
    {
     "data": {
      "text/plain": [
       "array([[<AxesSubplot:title={'center':'detourTime'}>,\n",
       "        <AxesSubplot:title={'center':'taxiDepartDelay'}>]], dtype=object)"
      ]
     },
     "execution_count": 34,
     "metadata": {},
     "output_type": "execute_result"
    },
    {
     "data": {
      "image/png": "[encoded data removed]",
      "text/plain": [
       "<Figure size 432x288 with 2 Axes>"
      ]
     },
     "metadata": {
      "needs_background": "light"
     },
     "output_type": "display_data"
    }
   ],
   "source": [
    "df.hist(column=[\"detourTime\", \"taxiDepartDelay\"])"
   ]
  },
  {
   "cell_type": "code",
   "execution_count": 35,
   "metadata": {},
   "outputs": [
    {
     "data": {
      "text/plain": [
       "array([<AxesSubplot:title={'center':'False'}>,\n",
       "       <AxesSubplot:title={'center':'True'}>], dtype=object)"
      ]
     },
     "execution_count": 35,
     "metadata": {},
     "output_type": "execute_result"
    },
    {
     "data": {
      "image/png": "[encoded data removed]",
      "text/plain": [
       "<Figure size 432x288 with 2 Axes>"
      ]
     },
     "metadata": {
      "needs_background": "light"
     },
     "output_type": "display_data"
    }
   ],
   "source": [
    "df.hist(column=[\"detourTime\"], by=\"sharedRide\")"
   ]
  },
  {
   "cell_type": "code",
   "execution_count": 36,
   "metadata": {},
   "outputs": [
    {
     "data": {
      "text/plain": [
       "array([<AxesSubplot:title={'center':'False'}>,\n",
       "       <AxesSubplot:title={'center':'True'}>], dtype=object)"
      ]
     },
     "execution_count": 36,
     "metadata": {},
     "output_type": "execute_result"
    },
    {
     "data": {
      "image/png": "[encoded data removed]",
      "text/plain": [
       "<Figure size 432x288 with 2 Axes>"
      ]
     },
     "metadata": {
      "needs_background": "light"
     },
     "output_type": "display_data"
    }
   ],
   "source": [
    "df.hist(column=[\"taxiDistance\"], by=\"sharedRide\")"
   ]
  },
  {
   "cell_type": "code",
   "execution_count": null,
   "metadata": {},
   "outputs": [],
   "source": []
  }
 ],
 "metadata": {
  "kernelspec": {
   "display_name": "base",
   "language": "python",
   "name": "python3"
  },
  "language_info": {
   "codemirror_mode": {
    "name": "ipython",
    "version": 3
   },
   "file_extension": ".py",
   "mimetype": "text/x-python",
   "name": "python",
   "nbconvert_exporter": "python",
   "pygments_lexer": "ipython3",
   "version": "3.9.12"
  },
  "orig_nbformat": 4
 },
 "nbformat": 4,
 "nbformat_minor": 2
}
