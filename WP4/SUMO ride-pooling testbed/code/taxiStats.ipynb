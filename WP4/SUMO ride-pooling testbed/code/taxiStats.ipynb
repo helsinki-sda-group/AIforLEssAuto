{
 "cells": [
  {
   "cell_type": "code",
   "execution_count": 1,
   "metadata": {},
   "outputs": [],
   "source": [
    "from bs4 import BeautifulSoup  \n",
    "import pandas as pd"
   ]
  },
  {
   "cell_type": "code",
   "execution_count": 10,
   "metadata": {},
   "outputs": [
    {
     "name": "stdout",
     "output_type": "stream",
     "text": [
      "Taxis found:  38\n"
     ]
    }
   ],
   "source": [
    "file = open(\"taxis.xml\",'r')\n",
    "contents = file.read()\n",
    "soup = BeautifulSoup(contents,'xml')\n",
    "file.close()\n",
    "taxis = soup.find_all(\"taxi\")\n",
    "print(\"Taxis found: \", len(taxis))"
   ]
  },
  {
   "cell_type": "code",
   "execution_count": 5,
   "metadata": {},
   "outputs": [],
   "source": [
    "data = []\n",
    "for taxi in taxis:\n",
    "    id = taxi[\"id\"]\n",
    "    customers = int(taxi[\"customers\"])\n",
    "    fullDistance = float(taxi[\"fullDistance\"])\n",
    "    fullTime = int(taxi[\"fullTime\"])\n",
    "    idleDistance = float(taxi[\"idleDistance\"])\n",
    "    idleDistanceRatio = float(taxi[\"idleDistanceRatio\"])\n",
    "    idleTime = int(taxi[\"idleTime\"])\n",
    "    idleTimeRatio = float(taxi[\"idleTimeRatio\"])\n",
    "    occupancyRate = float(taxi[\"occupancyRate\"])\n",
    "    occupiedDistance = float(taxi[\"occupiedDistance\"])\n",
    "    occupiedTime = int(taxi[\"occupiedTime\"])\n",
    "    rows = [id, customers, occupancyRate, fullDistance, occupiedDistance, idleDistance, idleDistanceRatio, fullTime, occupiedTime, idleTime, idleTimeRatio]\n",
    "    data.append(rows)\n",
    "\n",
    "df = pd.DataFrame(data, columns=[\"id\", \"customers\", \"occupancyRate\", \"fullDistance\", \"occupiedDistance\", \"idleDistance\", \"idleDistanceRatio\", \"fullTime\", \"occupiedTime\", \"idleTime\", \"idleTimeRatio\"])"
   ]
  },
  {
   "cell_type": "code",
   "execution_count": 8,
   "metadata": {},
   "outputs": [
    {
     "data": {
      "text/html": [
       "<div>\n",
       "<style scoped>\n",
       "    .dataframe tbody tr th:only-of-type {\n",
       "        vertical-align: middle;\n",
       "    }\n",
       "\n",
       "    .dataframe tbody tr th {\n",
       "        vertical-align: top;\n",
       "    }\n",
       "\n",
       "    .dataframe thead th {\n",
       "        text-align: right;\n",
       "    }\n",
       "</style>\n",
       "<table border=\"1\" class=\"dataframe\">\n",
       "  <thead>\n",
       "    <tr style=\"text-align: right;\">\n",
       "      <th></th>\n",
       "      <th>id</th>\n",
       "      <th>customers</th>\n",
       "      <th>occupancyRate</th>\n",
       "      <th>fullDistance</th>\n",
       "      <th>occupiedDistance</th>\n",
       "      <th>idleDistance</th>\n",
       "      <th>idleDistanceRatio</th>\n",
       "      <th>fullTime</th>\n",
       "      <th>occupiedTime</th>\n",
       "      <th>idleTime</th>\n",
       "      <th>idleTimeRatio</th>\n",
       "    </tr>\n",
       "  </thead>\n",
       "  <tbody>\n",
       "    <tr>\n",
       "      <th>0</th>\n",
       "      <td>t0</td>\n",
       "      <td>4</td>\n",
       "      <td>1.2</td>\n",
       "      <td>10311.85</td>\n",
       "      <td>8111.15</td>\n",
       "      <td>2200.70</td>\n",
       "      <td>0.21</td>\n",
       "      <td>1297</td>\n",
       "      <td>794</td>\n",
       "      <td>503</td>\n",
       "      <td>0.39</td>\n",
       "    </tr>\n",
       "    <tr>\n",
       "      <th>1</th>\n",
       "      <td>t1</td>\n",
       "      <td>3</td>\n",
       "      <td>1.0</td>\n",
       "      <td>9131.14</td>\n",
       "      <td>7611.13</td>\n",
       "      <td>1520.01</td>\n",
       "      <td>0.17</td>\n",
       "      <td>1306</td>\n",
       "      <td>726</td>\n",
       "      <td>580</td>\n",
       "      <td>0.44</td>\n",
       "    </tr>\n",
       "    <tr>\n",
       "      <th>2</th>\n",
       "      <td>t2</td>\n",
       "      <td>3</td>\n",
       "      <td>1.0</td>\n",
       "      <td>10672.18</td>\n",
       "      <td>7833.74</td>\n",
       "      <td>2838.44</td>\n",
       "      <td>0.27</td>\n",
       "      <td>1306</td>\n",
       "      <td>779</td>\n",
       "      <td>527</td>\n",
       "      <td>0.40</td>\n",
       "    </tr>\n",
       "    <tr>\n",
       "      <th>3</th>\n",
       "      <td>t3</td>\n",
       "      <td>3</td>\n",
       "      <td>1.0</td>\n",
       "      <td>9988.51</td>\n",
       "      <td>7698.81</td>\n",
       "      <td>2289.70</td>\n",
       "      <td>0.23</td>\n",
       "      <td>1306</td>\n",
       "      <td>703</td>\n",
       "      <td>603</td>\n",
       "      <td>0.46</td>\n",
       "    </tr>\n",
       "    <tr>\n",
       "      <th>4</th>\n",
       "      <td>t4</td>\n",
       "      <td>1</td>\n",
       "      <td>1.0</td>\n",
       "      <td>3811.71</td>\n",
       "      <td>2537.59</td>\n",
       "      <td>1274.12</td>\n",
       "      <td>0.33</td>\n",
       "      <td>1302</td>\n",
       "      <td>262</td>\n",
       "      <td>1040</td>\n",
       "      <td>0.80</td>\n",
       "    </tr>\n",
       "  </tbody>\n",
       "</table>\n",
       "</div>"
      ],
      "text/plain": [
       "   id  customers  occupancyRate  fullDistance  occupiedDistance  idleDistance  \\\n",
       "0  t0          4            1.2      10311.85           8111.15       2200.70   \n",
       "1  t1          3            1.0       9131.14           7611.13       1520.01   \n",
       "2  t2          3            1.0      10672.18           7833.74       2838.44   \n",
       "3  t3          3            1.0       9988.51           7698.81       2289.70   \n",
       "4  t4          1            1.0       3811.71           2537.59       1274.12   \n",
       "\n",
       "   idleDistanceRatio  fullTime  occupiedTime  idleTime  idleTimeRatio  \n",
       "0               0.21      1297           794       503           0.39  \n",
       "1               0.17      1306           726       580           0.44  \n",
       "2               0.27      1306           779       527           0.40  \n",
       "3               0.23      1306           703       603           0.46  \n",
       "4               0.33      1302           262      1040           0.80  "
      ]
     },
     "metadata": {},
     "output_type": "display_data"
    }
   ],
   "source": [
    "display(df.head())"
   ]
  },
  {
   "cell_type": "code",
   "execution_count": 9,
   "metadata": {},
   "outputs": [
    {
     "name": "stderr",
     "output_type": "stream",
     "text": [
      "C:\\Users\\bochenin\\AppData\\Local\\Temp\\ipykernel_3636\\3698961737.py:1: FutureWarning: Dropping of nuisance columns in DataFrame reductions (with 'numeric_only=None') is deprecated; in a future version this will raise TypeError.  Select only valid columns before calling the reduction.\n",
      "  df.mean()\n"
     ]
    },
    {
     "data": {
      "text/plain": [
       "customers               2.552632\n",
       "occupancyRate           1.030263\n",
       "fullDistance         9138.471842\n",
       "occupiedDistance     6687.536053\n",
       "idleDistance         2450.935789\n",
       "idleDistanceRatio       0.270000\n",
       "fullTime             1303.394737\n",
       "occupiedTime          644.131579\n",
       "idleTime              659.263158\n",
       "idleTimeRatio           0.505789\n",
       "dtype: float64"
      ]
     },
     "execution_count": 9,
     "metadata": {},
     "output_type": "execute_result"
    }
   ],
   "source": [
    "df.mean()"
   ]
  },
  {
   "cell_type": "code",
   "execution_count": null,
   "metadata": {},
   "outputs": [],
   "source": []
  }
 ],
 "metadata": {
  "kernelspec": {
   "display_name": "base",
   "language": "python",
   "name": "python3"
  },
  "language_info": {
   "codemirror_mode": {
    "name": "ipython",
    "version": 3
   },
   "file_extension": ".py",
   "mimetype": "text/x-python",
   "name": "python",
   "nbconvert_exporter": "python",
   "pygments_lexer": "ipython3",
   "version": "3.9.12"
  },
  "orig_nbformat": 4
 },
 "nbformat": 4,
 "nbformat_minor": 2
}
